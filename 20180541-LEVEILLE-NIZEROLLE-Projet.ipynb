{
 "cells": [
  {
   "cell_type": "markdown",
   "id": "14e501a2",
   "metadata": {},
   "source": [
    "# Data Visualization - Projet"
   ]
  },
  {
   "cell_type": "markdown",
   "id": "8f772272",
   "metadata": {},
   "source": [
    "## Import librairies"
   ]
  },
  {
   "cell_type": "code",
   "execution_count": 5,
   "id": "915d9c03",
   "metadata": {},
   "outputs": [
    {
     "ename": "SyntaxError",
     "evalue": "invalid syntax (<ipython-input-5-b9afbb3bf9a5>, line 1)",
     "output_type": "error",
     "traceback": [
      "\u001b[1;36m  File \u001b[1;32m\"<ipython-input-5-b9afbb3bf9a5>\"\u001b[1;36m, line \u001b[1;32m1\u001b[0m\n\u001b[1;33m    pip install streamlit\u001b[0m\n\u001b[1;37m        ^\u001b[0m\n\u001b[1;31mSyntaxError\u001b[0m\u001b[1;31m:\u001b[0m invalid syntax\n"
     ]
    }
   ],
   "source": [
    "pip install streamlit"
   ]
  },
  {
   "cell_type": "code",
   "execution_count": 6,
   "id": "a053aa22",
   "metadata": {},
   "outputs": [
    {
     "name": "stdout",
     "output_type": "stream",
     "text": [
      "Requirement already satisfied: seaborn in d:\\anaconda\\lib\\site-packages (0.11.1)\n",
      "Requirement already satisfied: numpy>=1.15 in d:\\anaconda\\lib\\site-packages (from seaborn) (1.20.1)\n",
      "Requirement already satisfied: matplotlib>=2.2 in c:\\users\\romai\\appdata\\roaming\\python\\python38\\site-packages (from seaborn) (3.4.2)\n",
      "Requirement already satisfied: pandas>=0.23 in d:\\anaconda\\lib\\site-packages (from seaborn) (1.2.4)\n",
      "Requirement already satisfied: scipy>=1.0 in c:\\users\\romai\\appdata\\roaming\\python\\python38\\site-packages (from seaborn) (1.4.1)\n",
      "Requirement already satisfied: pyparsing>=2.2.1 in d:\\anaconda\\lib\\site-packages (from matplotlib>=2.2->seaborn) (2.4.7)\n",
      "Requirement already satisfied: pillow>=6.2.0 in c:\\users\\romai\\appdata\\roaming\\python\\python38\\site-packages (from matplotlib>=2.2->seaborn) (8.3.0)\n",
      "Requirement already satisfied: cycler>=0.10 in c:\\users\\romai\\appdata\\roaming\\python\\python38\\site-packages (from matplotlib>=2.2->seaborn) (0.10.0)\n",
      "Requirement already satisfied: kiwisolver>=1.0.1 in c:\\users\\romai\\appdata\\roaming\\python\\python38\\site-packages (from matplotlib>=2.2->seaborn) (1.3.1)\n",
      "Requirement already satisfied: python-dateutil>=2.7 in d:\\anaconda\\lib\\site-packages (from matplotlib>=2.2->seaborn) (2.8.1)\n",
      "Requirement already satisfied: six in d:\\anaconda\\lib\\site-packages (from cycler>=0.10->matplotlib>=2.2->seaborn) (1.15.0)\n",
      "Requirement already satisfied: pytz>=2017.3 in d:\\anaconda\\lib\\site-packages (from pandas>=0.23->seaborn) (2021.1)\n",
      "Note: you may need to restart the kernel to use updated packages.\n"
     ]
    }
   ],
   "source": [
    "pip install seaborn"
   ]
  },
  {
   "cell_type": "code",
   "execution_count": 1,
   "id": "bde14789",
   "metadata": {},
   "outputs": [],
   "source": [
    "import streamlit as st\n",
    "# Importing numpy and pandas\n",
    "import numpy as np\n",
    "import pandas as pd\n"
   ]
  },
  {
   "cell_type": "code",
   "execution_count": 5,
   "id": "f4ffcf8d",
   "metadata": {},
   "outputs": [],
   "source": [
    "path = \"C:/Users/romai/Desktop/EFREI/M1/S7/Data_Visualization/Practicals/Dossier_Projet/com_samsung_shealth_tracker_pedometer_day_summary_202109200905.csv\"\n",
    "df = pd.read_csv(path, delimiter = ',') \n"
   ]
  },
  {
   "cell_type": "code",
   "execution_count": 6,
   "id": "38fa9982",
   "metadata": {},
   "outputs": [],
   "source": [
    "#df.drop('achievement', axis = 1, inplace = True)\n",
    "#df.drop(\"recommendation\", axis = 1, inplace = True)\n",
    "#df.drop(\"deviceuuid\", axis = 1, inplace = True)\n",
    "#df.drop(\"source_package_name\", axis = 1, inplace = True)\n",
    "#df.drop(\"pkg_name\", axis = 1, inplace = True)\n",
    "#df.drop(\"binning_data\", axis = 1, inplace = True)\n",
    "#df.drop(\"datauuid\", axis = 1, inplace = True)\n",
    "#df.drop(\"source_info\", axis = 1, inplace = True)\n",
    "\n",
    "#df.to_csv(\"donnee_projet.csv\")\n"
   ]
  },
  {
   "cell_type": "markdown",
   "id": "ad556a3c",
   "metadata": {},
   "source": [
    "## Access to the datafile"
   ]
  },
  {
   "cell_type": "code",
   "execution_count": null,
   "id": "a97ccb10",
   "metadata": {},
   "outputs": [],
   "source": []
  },
  {
   "cell_type": "code",
   "execution_count": 3,
   "id": "ec81c697",
   "metadata": {},
   "outputs": [
    {
     "name": "stdout",
     "output_type": "stream",
     "text": [
      "Dossier_Projet\n"
     ]
    }
   ],
   "source": [
    "import os\n",
    "# Create a folder for the pipeline step files\n",
    "st_folder = 'Dossier_Projet'\n",
    "os.makedirs(st_folder, exist_ok=True)\n",
    "\n",
    "print(st_folder)"
   ]
  },
  {
   "cell_type": "code",
   "execution_count": 4,
   "id": "c9ed2a7d",
   "metadata": {},
   "outputs": [
    {
     "name": "stdout",
     "output_type": "stream",
     "text": [
      "Writing Dossier_Projet/App_Projet.py\n"
     ]
    }
   ],
   "source": [
    "%%writefile $st_folder/App_Projet.py\n",
    "import streamlit as st\n",
    "# Importing numpy and pandas\n",
    "import numpy as np\n",
    "import pandas as pd\n",
    "st.title('Appli Projet')"
   ]
  },
  {
   "cell_type": "code",
   "execution_count": null,
   "id": "6ad83670",
   "metadata": {},
   "outputs": [],
   "source": []
  }
 ],
 "metadata": {
  "kernelspec": {
   "display_name": "Python 3",
   "language": "python",
   "name": "python3"
  },
  "language_info": {
   "codemirror_mode": {
    "name": "ipython",
    "version": 3
   },
   "file_extension": ".py",
   "mimetype": "text/x-python",
   "name": "python",
   "nbconvert_exporter": "python",
   "pygments_lexer": "ipython3",
   "version": "3.8.8"
  }
 },
 "nbformat": 4,
 "nbformat_minor": 5
}
